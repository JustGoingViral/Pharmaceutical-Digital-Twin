{
 "cells": [
  {
   "cell_type": "markdown",
   "id": "a06de257",
   "metadata": {},
   "source": [
    "# 🧪 Pharmaceutical Digital Twin Factory (PDTF) – Demo Notebook\n",
    "This notebook demonstrates an end-to-end use case of the PDTF system: molecule modeling, quantum simulation, and FDA report generation."
   ]
  },
  {
   "cell_type": "code",
   "execution_count": null,
   "id": "5ee28c46",
   "metadata": {},
   "outputs": [],
   "source": [
    "# 1. Load the molecule model\n",
    "from molecule_model import Molecule, Atom, Bond\n",
    "\n",
    "molecule = Molecule(\n",
    "    name=\"Aspirin\",\n",
    "    formula=\"C9H8O4\",\n",
    "    molecular_weight=180.16,\n",
    "    atoms=[\n",
    "        Atom(element=\"C\", x=0.0, y=0.0, z=0.0),\n",
    "        Atom(element=\"O\", x=1.0, y=0.0, z=0.0)\n",
    "    ],\n",
    "    bonds=[\n",
    "        Bond(atom1=0, atom2=1, type=\"single\")\n",
    "    ],\n",
    "    batch_id=\"DEMO-BATCH-001\"\n",
    ")\n",
    "\n",
    "print(\"Serialized Molecule JSON:\")\n",
    "print(molecule.to_json())"
   ]
  },
  {
   "cell_type": "code",
   "execution_count": null,
   "id": "f730065c",
   "metadata": {},
   "outputs": [],
   "source": [
    "# 2. Run quantum simulation of uncertainty\n",
    "from quantum_engine import QuantumScenarioSimulator\n",
    "import numpy as np\n",
    "\n",
    "simulator = QuantumScenarioSimulator(num_qubits=2)\n",
    "params = list(np.random.uniform(0, np.pi, 2))\n",
    "result = simulator.run_simulation(params)\n",
    "\n",
    "print(\"Quantum Simulation Results:\")\n",
    "print(result)"
   ]
  },
  {
   "cell_type": "code",
   "execution_count": null,
   "id": "d5a3d666",
   "metadata": {},
   "outputs": [],
   "source": [
    "# 3. Generate mock FDA compliance report (API key omitted for safety)\n",
    "from nlg_regulator import NLGRegulatoryGenerator\n",
    "\n",
    "# Use a mock or replace with your actual OpenAI key\n",
    "generator = NLGRegulatoryGenerator(api_key=\"sk-REPLACE_ME\")\n",
    "\n",
    "anomalies = {\n",
    "    \"impurity_level\": \"Exceeded threshold in sample 17A\",\n",
    "    \"temperature_variation\": \"Spike of +2°C during synthesis\",\n",
    "}\n",
    "\n",
    "# This will fail unless you have the key, or mock it\n",
    "# report = generator.generate_fda_report(\"Aspirin\", \"DEMO-BATCH-001\", anomalies)\n",
    "# print(report)\n",
    "\n",
    "print(\"FDA report generation skipped (mock or replace API key to enable).\")"
   ]
  }
 ],
 "metadata": {},
 "nbformat": 4,
 "nbformat_minor": 5
}
